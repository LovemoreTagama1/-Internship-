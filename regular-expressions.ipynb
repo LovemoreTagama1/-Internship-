{
 "cells": [
  {
   "cell_type": "code",
   "execution_count": null,
   "metadata": {},
   "outputs": [],
   "source": []
  },
  {
   "cell_type": "code",
   "execution_count": 3,
   "metadata": {},
   "outputs": [
    {
     "name": "stdout",
     "output_type": "stream",
     "text": [
      "Python:Exercises::PHP:exercises:\n"
     ]
    }
   ],
   "source": [
    "#Q1\n",
    "import re\n",
    "\n",
    "def replace_characters(text):\n",
    "    return re.sub(r'[ ,.]', ':', text)\n",
    "\n",
    "sample_text = 'Python Exercises, PHP exercises.'\n",
    "expected_output = replace_characters(sample_text)\n",
    "print(expected_output)\n"
   ]
  },
  {
   "cell_type": "code",
   "execution_count": 4,
   "metadata": {},
   "outputs": [
    {
     "name": "stdout",
     "output_type": "stream",
     "text": [
      "         SUMMARY\n",
      "0    hello world\n",
      "1     XXXXX test\n",
      "2  four five six\n"
     ]
    }
   ],
   "source": [
    "#Q2\n",
    "import pandas as pd\n",
    "import re\n",
    "\n",
    "data = {'SUMMARY': ['hello, world!', 'XXXXX test', '123four, five:; six...']}\n",
    "\n",
    "df = pd.DataFrame(data)\n",
    "\n",
    "df['SUMMARY'] = df['SUMMARY'].apply(lambda x: re.sub(r'[^a-zA-Z\\s]', '', x))\n",
    "print(df)\n"
   ]
  },
  {
   "cell_type": "code",
   "execution_count": 5,
   "metadata": {},
   "outputs": [
    {
     "name": "stdout",
     "output_type": "stream",
     "text": [
      "['This', 'test', 'string', 'with', 'several', 'longwords', 'short']\n"
     ]
    }
   ],
   "source": [
    "#Q3\n",
    "import re\n",
    "\n",
    "def find_long_words(text):\n",
    "    pattern = re.compile(r'\\b\\w{4,}\\b')\n",
    "    return pattern.findall(text)\n",
    "\n",
    "sample_text = \"This is a test string with several longwords and short.\"\n",
    "print(find_long_words(sample_text))\n"
   ]
  },
  {
   "cell_type": "code",
   "execution_count": 6,
   "metadata": {},
   "outputs": [
    {
     "name": "stdout",
     "output_type": "stream",
     "text": [
      "['This', 'test', 'with', 'and', 'short']\n"
     ]
    }
   ],
   "source": [
    "#Q4\n",
    "import re\n",
    "\n",
    "def find_specific_length_words(text):\n",
    "    pattern = re.compile(r'\\b\\w{3,5}\\b')\n",
    "    return pattern.findall(text)\n",
    "\n",
    "sample_text = \"This is a test string with several longwords and short.\"\n",
    "print(find_specific_length_words(sample_text))\n"
   ]
  },
  {
   "cell_type": "code",
   "execution_count": 7,
   "metadata": {},
   "outputs": [
    {
     "name": "stdout",
     "output_type": "stream",
     "text": [
      "['example', 'hr@fliprobo', 'github', 'Hello', 'Data']\n"
     ]
    }
   ],
   "source": [
    "#Q5\n",
    "import re\n",
    "\n",
    "def remove_parentheses(texts):\n",
    "    pattern = re.compile(r'\\s?\\(.*?\\)')\n",
    "    return [pattern.sub('', text) for text in texts]\n",
    "\n",
    "sample_text = [\"example (.com)\", \"hr@fliprobo (.com)\", \"github (.com)\", \"Hello (Data Science World)\", \"Data (Scientist)\"]\n",
    "print(remove_parentheses(sample_text))\n"
   ]
  },
  {
   "cell_type": "code",
   "execution_count": 8,
   "metadata": {},
   "outputs": [
    {
     "ename": "PermissionError",
     "evalue": "[Errno 13] Permission denied: 'sample_text.txt'",
     "output_type": "error",
     "traceback": [
      "\u001b[0;31m---------------------------------------------------------------------------\u001b[0m",
      "\u001b[0;31mPermissionError\u001b[0m                           Traceback (most recent call last)",
      "Cell \u001b[0;32mIn[8], line 19\u001b[0m\n\u001b[1;32m     16\u001b[0m sample_text \u001b[38;5;241m=\u001b[39m \u001b[38;5;124m'\u001b[39m\u001b[38;5;124m[\u001b[39m\u001b[38;5;124m\"\u001b[39m\u001b[38;5;124mexample (.com)\u001b[39m\u001b[38;5;124m\"\u001b[39m\u001b[38;5;124m, \u001b[39m\u001b[38;5;124m\"\u001b[39m\u001b[38;5;124mhr@fliprobo (.com)\u001b[39m\u001b[38;5;124m\"\u001b[39m\u001b[38;5;124m, \u001b[39m\u001b[38;5;124m\"\u001b[39m\u001b[38;5;124mgithub (.com)\u001b[39m\u001b[38;5;124m\"\u001b[39m\u001b[38;5;124m, \u001b[39m\u001b[38;5;124m\"\u001b[39m\u001b[38;5;124mHello (Data Science World)\u001b[39m\u001b[38;5;124m\"\u001b[39m\u001b[38;5;124m, \u001b[39m\u001b[38;5;124m\"\u001b[39m\u001b[38;5;124mData (Scientist)\u001b[39m\u001b[38;5;124m\"\u001b[39m\u001b[38;5;124m]\u001b[39m\u001b[38;5;124m'\u001b[39m\n\u001b[1;32m     17\u001b[0m file_path \u001b[38;5;241m=\u001b[39m \u001b[38;5;124m'\u001b[39m\u001b[38;5;124msample_text.txt\u001b[39m\u001b[38;5;124m'\u001b[39m\n\u001b[0;32m---> 19\u001b[0m \u001b[38;5;28;01mwith\u001b[39;00m \u001b[38;5;28;43mopen\u001b[39;49m\u001b[43m(\u001b[49m\u001b[43mfile_path\u001b[49m\u001b[43m,\u001b[49m\u001b[43m \u001b[49m\u001b[38;5;124;43m'\u001b[39;49m\u001b[38;5;124;43mw\u001b[39;49m\u001b[38;5;124;43m'\u001b[39;49m\u001b[43m)\u001b[49m \u001b[38;5;28;01mas\u001b[39;00m file:\n\u001b[1;32m     20\u001b[0m     file\u001b[38;5;241m.\u001b[39mwrite(sample_text)\n\u001b[1;32m     22\u001b[0m \u001b[38;5;28mprint\u001b[39m(remove_parentheses_from_file(file_path))\n",
      "File \u001b[0;32m~/.local/lib/python3.10/site-packages/IPython/core/interactiveshell.py:324\u001b[0m, in \u001b[0;36m_modified_open\u001b[0;34m(file, *args, **kwargs)\u001b[0m\n\u001b[1;32m    317\u001b[0m \u001b[38;5;28;01mif\u001b[39;00m file \u001b[38;5;129;01min\u001b[39;00m {\u001b[38;5;241m0\u001b[39m, \u001b[38;5;241m1\u001b[39m, \u001b[38;5;241m2\u001b[39m}:\n\u001b[1;32m    318\u001b[0m     \u001b[38;5;28;01mraise\u001b[39;00m \u001b[38;5;167;01mValueError\u001b[39;00m(\n\u001b[1;32m    319\u001b[0m         \u001b[38;5;124mf\u001b[39m\u001b[38;5;124m\"\u001b[39m\u001b[38;5;124mIPython won\u001b[39m\u001b[38;5;124m'\u001b[39m\u001b[38;5;124mt let you open fd=\u001b[39m\u001b[38;5;132;01m{\u001b[39;00mfile\u001b[38;5;132;01m}\u001b[39;00m\u001b[38;5;124m by default \u001b[39m\u001b[38;5;124m\"\u001b[39m\n\u001b[1;32m    320\u001b[0m         \u001b[38;5;124m\"\u001b[39m\u001b[38;5;124mas it is likely to crash IPython. If you know what you are doing, \u001b[39m\u001b[38;5;124m\"\u001b[39m\n\u001b[1;32m    321\u001b[0m         \u001b[38;5;124m\"\u001b[39m\u001b[38;5;124myou can use builtins\u001b[39m\u001b[38;5;124m'\u001b[39m\u001b[38;5;124m open.\u001b[39m\u001b[38;5;124m\"\u001b[39m\n\u001b[1;32m    322\u001b[0m     )\n\u001b[0;32m--> 324\u001b[0m \u001b[38;5;28;01mreturn\u001b[39;00m \u001b[43mio_open\u001b[49m\u001b[43m(\u001b[49m\u001b[43mfile\u001b[49m\u001b[43m,\u001b[49m\u001b[43m \u001b[49m\u001b[38;5;241;43m*\u001b[39;49m\u001b[43margs\u001b[49m\u001b[43m,\u001b[49m\u001b[43m \u001b[49m\u001b[38;5;241;43m*\u001b[39;49m\u001b[38;5;241;43m*\u001b[39;49m\u001b[43mkwargs\u001b[49m\u001b[43m)\u001b[49m\n",
      "\u001b[0;31mPermissionError\u001b[0m: [Errno 13] Permission denied: 'sample_text.txt'"
     ]
    }
   ],
   "source": [
    "#Q6\n",
    "import re\n",
    "\n",
    "def remove_parentheses_from_file(file_path):\n",
    "    with open(file_path, 'r') as file:\n",
    "        content = file.read()\n",
    "    \n",
    "    pattern = re.compile(r'\\s?\\(.*?\\)')\n",
    "    result = pattern.sub('', content)\n",
    "    \n",
    "    with open(file_path, 'w') as file:\n",
    "        file.write(result)\n",
    "\n",
    "    return result\n",
    "\n",
    "sample_text = '[\"example (.com)\", \"hr@fliprobo (.com)\", \"github (.com)\", \"Hello (Data Science World)\", \"Data (Scientist)\"]'\n",
    "file_path = 'sample_text.txt'\n",
    "\n",
    "with open(file_path, 'w') as file:\n",
    "    file.write(sample_text)\n",
    "\n",
    "print(remove_parentheses_from_file(file_path))\n"
   ]
  },
  {
   "cell_type": "code",
   "execution_count": null,
   "metadata": {},
   "outputs": [
    {
     "name": "stdout",
     "output_type": "stream",
     "text": [
      "['', 'Importance', 'Of', 'Regular', 'Expressions', 'In', 'Python']\n"
     ]
    }
   ],
   "source": [
    "#Q7\n",
    "import re\n",
    "\n",
    "def split_uppercase(text):\n",
    "    pattern = re.compile(r'(?=[A-Z])')\n",
    "    return pattern.split(text)\n",
    "\n",
    "sample_text = \"ImportanceOfRegularExpressionsInPython\"\n",
    "print(split_uppercase(sample_text))\n"
   ]
  },
  {
   "cell_type": "code",
   "execution_count": null,
   "metadata": {},
   "outputs": [
    {
     "name": "stdout",
     "output_type": "stream",
     "text": [
      "RegularExpression 1IsAn 2ImportantTopic 3InPython\n"
     ]
    }
   ],
   "source": [
    "#Q8\n",
    "import re\n",
    "\n",
    "def insert_spaces_numbers(text):\n",
    "    pattern = re.compile(r'(\\d)')\n",
    "    return pattern.sub(r' \\1', text)\n",
    "\n",
    "sample_text = \"RegularExpression1IsAn2ImportantTopic3InPython\"\n",
    "print(insert_spaces_numbers(sample_text))\n"
   ]
  },
  {
   "cell_type": "code",
   "execution_count": null,
   "metadata": {},
   "outputs": [
    {
     "name": "stdout",
     "output_type": "stream",
     "text": [
      " Regular Expression 1 Is An 2 Important Topic 3 In Python\n"
     ]
    }
   ],
   "source": [
    "#Q9\n",
    "import re\n",
    "\n",
    "def insert_spaces_capital_numbers(text):\n",
    "    pattern = re.compile(r'([A-Z0-9])')\n",
    "    return pattern.sub(r' \\1', text)\n",
    "\n",
    "sample_text = \"RegularExpression1IsAn2ImportantTopic3InPython\"\n",
    "print(insert_spaces_capital_numbers(sample_text))\n"
   ]
  },
  {
   "cell_type": "code",
   "execution_count": null,
   "metadata": {},
   "outputs": [
    {
     "name": "stdout",
     "output_type": "stream",
     "text": [
      "  Country Name Country Code  Year  Value first_six_letters\n",
      "0        Aruba          ABW  1960  54608             Aruba\n",
      "1        Aruba          ABW  1961  55811             Aruba\n",
      "2        Aruba          ABW  1962  56682             Aruba\n",
      "3        Aruba          ABW  1963  57475             Aruba\n",
      "4        Aruba          ABW  1964  58178             Aruba\n"
     ]
    }
   ],
   "source": [
    "#Q10\n",
    "import pandas as pd\n",
    "\n",
    "url = 'https://raw.githubusercontent.com/datasets/population/master/data/population.csv'\n",
    "df = pd.read_csv(url)\n",
    "\n",
    "df['first_six_letters'] = df['Country Name'].apply(lambda x: x[:6])\n",
    "print(df.head())\n"
   ]
  },
  {
   "cell_type": "code",
   "execution_count": null,
   "metadata": {},
   "outputs": [
    {
     "name": "stdout",
     "output_type": "stream",
     "text": [
      "True\n"
     ]
    }
   ],
   "source": [
    "#Q11\n",
    "import re\n",
    "\n",
    "def match_string(text):\n",
    "    pattern = re.compile(r'^[A-Za-z0-9_]+$')\n",
    "    return bool(pattern.match(text))\n",
    "\n",
    "sample_text = \"Hello_World123\"\n",
    "print(match_string(sample_text))  \n"
   ]
  },
  {
   "cell_type": "code",
   "execution_count": null,
   "metadata": {},
   "outputs": [
    {
     "name": "stdout",
     "output_type": "stream",
     "text": [
      "True\n"
     ]
    }
   ],
   "source": [
    "#Q12\n",
    "import re\n",
    "\n",
    "def starts_with_number(text, number):\n",
    "    pattern = re.compile(r'^' + re.escape(str(number)))\n",
    "    return bool(pattern.match(text))\n",
    "\n",
    "sample_text = \"123example\"\n",
    "print(starts_with_number(sample_text, 123))  \n"
   ]
  },
  {
   "cell_type": "code",
   "execution_count": null,
   "metadata": {},
   "outputs": [
    {
     "name": "stdout",
     "output_type": "stream",
     "text": [
      "192.168.1.1\n"
     ]
    }
   ],
   "source": [
    "#Q13\n",
    "import re\n",
    "\n",
    "def remove_leading_zeros(ip):\n",
    "    return re.sub(r'\\b0+(\\d)', r'\\1', ip)\n",
    "\n",
    "sample_ip = \"192.168.001.001\"\n",
    "print(remove_leading_zeros(sample_ip)) \n"
   ]
  },
  {
   "cell_type": "code",
   "execution_count": null,
   "metadata": {},
   "outputs": [
    {
     "name": "stdout",
     "output_type": "stream",
     "text": [
      "['th']\n"
     ]
    }
   ],
   "source": [
    "#Q14\n",
    "import re\n",
    "\n",
    "def extract_date(file_path):\n",
    "    with open(file_path, 'r') as file:\n",
    "        content = file.read()\n",
    "    \n",
    "    pattern = re.compile(r'\\b[A-Z][a-z]+\\s\\d{1,2}(st|nd|rd|th)?\\s\\d{4}\\b')\n",
    "    return pattern.findall(content)\n",
    "\n",
    "sample_text = 'On August 15th 1947 that India was declared independent from British colonialism, and the reins of control were handed over to the leaders of the Country.'\n",
    "file_path = 'sample_text.txt'\n",
    "\n",
    "with open(file_path, 'w') as file:\n",
    "    file.write(sample_text)\n",
    "\n",
    "print(extract_date(file_path))  \n"
   ]
  },
  {
   "cell_type": "code",
   "execution_count": null,
   "metadata": {},
   "outputs": [
    {
     "name": "stdout",
     "output_type": "stream",
     "text": [
      "'fox' found in text\n",
      "'dog' found in text\n"
     ]
    }
   ],
   "source": [
    "#Q15\n",
    "import re\n",
    "\n",
    "def search_literals(text, literals):\n",
    "    for literal in literals:\n",
    "        if re.search(re.escape(literal), text):\n",
    "            print(f\"'{literal}' found in text\")\n",
    "\n",
    "sample_text = 'The quick brown fox jumps over the lazy dog.'\n",
    "searched_words = ['fox', 'dog', 'horse']\n",
    "search_literals(sample_text, searched_words)\n"
   ]
  },
  {
   "cell_type": "code",
   "execution_count": null,
   "metadata": {},
   "outputs": [
    {
     "name": "stdout",
     "output_type": "stream",
     "text": [
      "(16, 19)\n"
     ]
    }
   ],
   "source": [
    "#Q16\n",
    "import re\n",
    "\n",
    "def search_literal_with_position(text, literal):\n",
    "    match = re.search(re.escape(literal), text)\n",
    "    if match:\n",
    "        return match.start(), match.end()\n",
    "    return None\n",
    "\n",
    "sample_text = 'The quick brown fox jumps over the lazy dog.'\n",
    "searched_word = 'fox'\n",
    "print(search_literal_with_position(sample_text, searched_word))  \n"
   ]
  },
  {
   "cell_type": "code",
   "execution_count": null,
   "metadata": {},
   "outputs": [
    {
     "name": "stdout",
     "output_type": "stream",
     "text": [
      "['exercises', 'exercises', 'exercises']\n"
     ]
    }
   ],
   "source": [
    "#Q17\n",
    "import re\n",
    "\n",
    "def find_substrings(text, pattern):\n",
    "    return re.findall(re.escape(pattern), text)\n",
    "\n",
    "sample_text = 'Python exercises, PHP exercises, C# exercises'\n",
    "pattern = 'exercises'\n",
    "print(find_substrings(sample_text, pattern)) \n"
   ]
  },
  {
   "cell_type": "code",
   "execution_count": null,
   "metadata": {},
   "outputs": [
    {
     "name": "stdout",
     "output_type": "stream",
     "text": [
      "[(7, 16), (22, 31), (36, 45)]\n"
     ]
    }
   ],
   "source": [
    "#Q18\n",
    "import re\n",
    "\n",
    "def find_substring_positions(text, pattern):\n",
    "    return [(match.start(), match.end()) for match in re.finditer(re.escape(pattern), text)]\n",
    "\n",
    "sample_text = 'Python exercises, PHP exercises, C# exercises'\n",
    "pattern = 'exercises'\n",
    "print(find_substring_positions(sample_text, pattern))  \n"
   ]
  },
  {
   "cell_type": "code",
   "execution_count": null,
   "metadata": {},
   "outputs": [
    {
     "name": "stdout",
     "output_type": "stream",
     "text": [
      "19-05-2023\n"
     ]
    }
   ],
   "source": [
    "#Q19\n",
    "def convert_date_format(date):\n",
    "    return '-'.join(date.split('-')[::-1])\n",
    "\n",
    "sample_date = '2023-05-19'\n",
    "print(convert_date_format(sample_date))  \n"
   ]
  },
  {
   "cell_type": "code",
   "execution_count": null,
   "metadata": {},
   "outputs": [
    {
     "name": "stdout",
     "output_type": "stream",
     "text": [
      "['01.12', '145.8', '3.01', '27.25', '0.25']\n"
     ]
    }
   ],
   "source": [
    "#Q20\n",
    "import re\n",
    "\n",
    "def find_decimal_numbers(text):\n",
    "    pattern = re.compile(r'\\b\\d+\\.\\d{1,2}\\b')\n",
    "    return pattern.findall(text)\n",
    "\n",
    "sample_text = \"01.12 0132.123 2.31875 145.8 3.01 27.25 0.25\"\n",
    "print(find_decimal_numbers(sample_text))  \n"
   ]
  },
  {
   "cell_type": "code",
   "execution_count": null,
   "metadata": {},
   "outputs": [
    {
     "name": "stdout",
     "output_type": "stream",
     "text": [
      "[('123', 20, 23), ('45678', 44, 49)]\n"
     ]
    }
   ],
   "source": [
    "#Q21\n",
    "import re\n",
    "\n",
    "def find_numbers_and_positions(text):\n",
    "    pattern = re.compile(r'\\d+')\n",
    "    return [(match.group(), match.start(), match.end()) for match in pattern.finditer(text)]\n",
    "\n",
    "sample_text = \"The house number is 123 and the zip code is 45678.\"\n",
    "print(find_numbers_and_positions(sample_text))\n",
    "\n"
   ]
  },
  {
   "cell_type": "code",
   "execution_count": null,
   "metadata": {},
   "outputs": [
    {
     "name": "stdout",
     "output_type": "stream",
     "text": [
      "950\n"
     ]
    }
   ],
   "source": [
    "#Q22\n",
    "import re\n",
    "\n",
    "def find_max_numeric_value(text):\n",
    "    pattern = re.compile(r'\\d+')\n",
    "    numbers = [int(num) for num in pattern.findall(text)]\n",
    "    return max(numbers)\n",
    "\n",
    "sample_text = 'My marks in each semester are: 947, 896, 926, 524, 734, 950, 642'\n",
    "print(find_max_numeric_value(sample_text)) \n"
   ]
  },
  {
   "cell_type": "code",
   "execution_count": null,
   "metadata": {},
   "outputs": [
    {
     "name": "stdout",
     "output_type": "stream",
     "text": [
      "Regular Expression Is An Important Topic In Python\n"
     ]
    }
   ],
   "source": [
    "#Q23\n",
    "import re\n",
    "\n",
    "def insert_spaces(text):\n",
    "    pattern = re.compile(r'(?<!^)(?=[A-Z])')\n",
    "    return pattern.sub(' ', text)\n",
    "\n",
    "sample_text = \"RegularExpressionIsAnImportantTopicInPython\"\n",
    "print(insert_spaces(sample_text))\n"
   ]
  },
  {
   "cell_type": "code",
   "execution_count": null,
   "metadata": {},
   "outputs": [
    {
     "name": "stdout",
     "output_type": "stream",
     "text": [
      "['Hello', 'World', 'Test', 'String']\n"
     ]
    }
   ],
   "source": [
    "#Q24\n",
    "import re\n",
    "\n",
    "def find_sequences(text):\n",
    "    pattern = re.compile(r'\\b[A-Z][a-z]*\\b')\n",
    "    return pattern.findall(text)\n",
    "\n",
    "sample_text = \"Hello World, this is a Test String with MixedCase.\"\n",
    "print(find_sequences(sample_text))\n",
    "\n"
   ]
  },
  {
   "cell_type": "code",
   "execution_count": null,
   "metadata": {},
   "outputs": [
    {
     "name": "stdout",
     "output_type": "stream",
     "text": [
      "Hello world\n"
     ]
    }
   ],
   "source": [
    "#Q25\n",
    "import re\n",
    "\n",
    "def remove_duplicates(text):\n",
    "    pattern = re.compile(r'\\b(\\w+)\\s+\\1\\b', re.IGNORECASE)\n",
    "    return pattern.sub(r'\\1', text)\n",
    "\n",
    "sample_text = \"Hello hello world world\"\n",
    "print(remove_duplicates(sample_text))  \n"
   ]
  },
  {
   "cell_type": "code",
   "execution_count": null,
   "metadata": {},
   "outputs": [
    {
     "name": "stdout",
     "output_type": "stream",
     "text": [
      "True\n"
     ]
    }
   ],
   "source": [
    "#Q26\n",
    "import re\n",
    "\n",
    "def ends_with_alphanumeric(text):\n",
    "    pattern = re.compile(r'\\w$')\n",
    "    return bool(pattern.search(text))\n",
    "\n",
    "sample_text = \"Hello world3\"\n",
    "print(ends_with_alphanumeric(sample_text)) \n"
   ]
  },
  {
   "cell_type": "code",
   "execution_count": null,
   "metadata": {},
   "outputs": [
    {
     "name": "stdout",
     "output_type": "stream",
     "text": [
      "['#Doltiwal', '#xyzabc', '#Demonetization']\n"
     ]
    }
   ],
   "source": [
    "#Q27\n",
    "import re\n",
    "\n",
    "def extract_hashtags(text):\n",
    "    pattern = re.compile(r'#\\w+')\n",
    "    return pattern.findall(text)\n",
    "\n",
    "sample_text = \"RT @kapil_kausik: #Doltiwal I mean #xyzabc is \\\"hurt\\\" by #Demonetization as the same has rendered USELESS <ed><U+00A0><U+00BD><ed><U+00B1><U+0089> \\\"acquired funds\\\" No wo\"\n",
    "print(extract_hashtags(sample_text))\n",
    "\n"
   ]
  },
  {
   "cell_type": "code",
   "execution_count": null,
   "metadata": {},
   "outputs": [
    {
     "name": "stdout",
     "output_type": "stream",
     "text": [
      "@Jags123456 Bharat band on 28??<ed><ed>Those who are protesting #demonetization are all different party leaders\n"
     ]
    }
   ],
   "source": [
    "#Q28\n",
    "import re\n",
    "\n",
    "def remove_unicode_symbols(text):\n",
    "    pattern = re.compile(r'<U\\+[A-F0-9]{4}>')\n",
    "    return pattern.sub('', text)\n",
    "\n",
    "sample_text = \"@Jags123456 Bharat band on 28??<ed><U+00A0><U+00BD><ed><U+00B8><U+0082>Those who are protesting #demonetization are all different party leaders\"\n",
    "print(remove_unicode_symbols(sample_text))\n",
    "\n"
   ]
  },
  {
   "cell_type": "code",
   "execution_count": null,
   "metadata": {},
   "outputs": [
    {
     "name": "stdout",
     "output_type": "stream",
     "text": [
      "['12-09-1992', '15-12-1999']\n"
     ]
    }
   ],
   "source": [
    "#Q29\n",
    "import re\n",
    "\n",
    "def extract_dates(file_path):\n",
    "    with open(file_path, 'r') as file:\n",
    "        content = file.read()\n",
    "    \n",
    "    pattern = re.compile(r'\\b\\d{2}-\\d{2}-\\d{4}\\b')\n",
    "    return pattern.findall(content)\n",
    "\n",
    "sample_text = 'Ron was born on 12-09-1992 and he was admitted to school on 15-12-1999.'\n",
    "file_path = 'dates_sample.txt'\n",
    "\n",
    "with open(file_path, 'w') as file:\n",
    "    file.write(sample_text)\n",
    "\n",
    "print(extract_dates(file_path))  \n"
   ]
  },
  {
   "cell_type": "code",
   "execution_count": null,
   "metadata": {},
   "outputs": [
    {
     "name": "stdout",
     "output_type": "stream",
     "text": [
      "following example creates  ArrayList  a capacity   elements. 4 elements   added   ArrayList   ArrayList  trimmed accordingly.\n"
     ]
    }
   ],
   "source": [
    "#Q30\n",
    "import re\n",
    "\n",
    "def remove_words(text):\n",
    "    pattern = re.compile(r'\\b\\w{2,4}\\b')\n",
    "    return pattern.sub('', text).strip()\n",
    "\n",
    "sample_text = \"The following example creates an ArrayList with a capacity of 50 elements. 4 elements are then added to the ArrayList and the ArrayList is trimmed accordingly.\"\n",
    "print(remove_words(sample_text))\n",
    "\n"
   ]
  },
  {
   "cell_type": "code",
   "execution_count": null,
   "metadata": {},
   "outputs": [],
   "source": []
  }
 ],
 "metadata": {
  "kernelspec": {
   "display_name": "Python 3",
   "language": "python",
   "name": "python3"
  },
  "language_info": {
   "codemirror_mode": {
    "name": "ipython",
    "version": 3
   },
   "file_extension": ".py",
   "mimetype": "text/x-python",
   "name": "python",
   "nbconvert_exporter": "python",
   "pygments_lexer": "ipython3",
   "version": "3.10.13"
  }
 },
 "nbformat": 4,
 "nbformat_minor": 2
}
